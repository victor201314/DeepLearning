{
 "cells": [
  {
   "cell_type": "markdown",
   "source": [
    "<a href=\"https://github.com/xuehangcang/DeepLearning/blob/main/docs/PyTorch/%E5%9F%BA%E7%A1%80%E7%9F%A5%E8%AF%86/8.保存和加载模型.ipynb\" download=\"\"><svg xmlns=\"http://www.w3.org/2000/svg\" xmlns:xlink=\"http://www.w3.org/1999/xlink\" width=\"110\" height=\"20\" role=\"img\" aria-label=\"jupyter: notebook\"><title>jupyter: notebook</title><linearGradient id=\"s\" x2=\"0\" y2=\"100%\"><stop offset=\"0\" stop-color=\"#bbb\" stop-opacity=\".1\"/><stop offset=\"1\" stop-opacity=\".1\"/></linearGradient><clipPath id=\"r\"><rect width=\"110\" height=\"20\" rx=\"3\" fill=\"#fff\"/></clipPath><g clip-path=\"url(#r)\"><rect width=\"49\" height=\"20\" fill=\"#555\"/><rect x=\"49\" width=\"61\" height=\"20\" fill=\"#fe7d37\"/><rect width=\"110\" height=\"20\" fill=\"url(#s)\"/></g><g fill=\"#fff\" text-anchor=\"middle\" font-family=\"Verdana,Geneva,DejaVu Sans,sans-serif\" text-rendering=\"geometricPrecision\" font-size=\"110\"><text aria-hidden=\"true\" x=\"255\" y=\"150\" fill=\"#010101\" fill-opacity=\".3\" transform=\"scale(.1)\" textLength=\"390\">jupyter</text><text x=\"255\" y=\"140\" transform=\"scale(.1)\" fill=\"#fff\" textLength=\"390\">jupyter</text><text aria-hidden=\"true\" x=\"785\" y=\"150\" fill=\"#010101\" fill-opacity=\".3\" transform=\"scale(.1)\" textLength=\"510\">notebook</text><text x=\"785\" y=\"140\" transform=\"scale(.1)\" fill=\"#fff\" textLength=\"510\">notebook</text></g></svg></a>"
   ],
   "metadata": {
    "collapsed": false
   }
  },
  {
   "cell_type": "markdown",
   "source": [
    "## 8.1 保存和加载模型\n",
    "\n",
    "在本节中，我们将探讨如何通过保存、加载和运行模型预测来持久化模型状态。"
   ],
   "metadata": {
    "collapsed": false
   }
  },
  {
   "cell_type": "code",
   "execution_count": 12,
   "outputs": [],
   "source": [
    "import torch\n",
    "from torchvision import models\n",
    "from torchvision.models import ResNet34_Weights"
   ],
   "metadata": {
    "collapsed": false,
    "ExecuteTime": {
     "start_time": "2023-04-22T13:11:31.971347Z",
     "end_time": "2023-04-22T13:11:32.006537Z"
    }
   }
  },
  {
   "cell_type": "markdown",
   "source": [
    "## 8.2 模型权重的保存和加载\n",
    "\n",
    "PyTorch模型将学习到的参数存储在内部的状态字典中，称为“state_dict”。可以通过“torch.save”方法将其持久化："
   ],
   "metadata": {
    "collapsed": false
   }
  },
  {
   "cell_type": "code",
   "execution_count": 13,
   "outputs": [],
   "source": [
    "model = models.resnet34(weights=ResNet34_Weights.DEFAULT)\n",
    "torch.save(model.state_dict(), 'model_weights.pth')"
   ],
   "metadata": {
    "collapsed": false,
    "ExecuteTime": {
     "start_time": "2023-04-22T13:11:31.973372Z",
     "end_time": "2023-04-22T13:11:32.353546Z"
    }
   }
  },
  {
   "cell_type": "markdown",
   "source": [
    "要加载模型权重，你需要先创建一个相同模型的实例，然后使用 `load_state_dict()` 方法加载参数。"
   ],
   "metadata": {
    "collapsed": false
   }
  },
  {
   "cell_type": "code",
   "execution_count": 14,
   "outputs": [],
   "source": [
    "model = models.resnet34() # we do not specify weights, i.e. create untrained model\n",
    "model.load_state_dict(torch.load('model_weights.pth'))\n",
    "model.eval()"
   ],
   "metadata": {
    "collapsed": false,
    "ExecuteTime": {
     "start_time": "2023-04-22T13:11:31.978371Z",
     "end_time": "2023-04-22T13:11:32.686598Z"
    }
   }
  },
  {
   "cell_type": "markdown",
   "source": [
    "在进行推理前，请确保调用 `model.eval()` 方法，以将dropout和批量归一化层设置为评估模式。如果不这样做，将产生不一致的推理结果。\n"
   ],
   "metadata": {
    "collapsed": false
   }
  },
  {
   "cell_type": "markdown",
   "source": [
    "## 8.3 保存和加载带有形状的模型\n",
    "\n",
    "在加载模型权重时，我们需要先实例化模型类，因为该类定义了网络的结构。如果我们想将该类的结构与模型一起保存，那么我们可以将`model`而不是`model.state_dict()`传递给保存函数："
   ],
   "metadata": {
    "collapsed": false
   }
  },
  {
   "cell_type": "code",
   "execution_count": 15,
   "outputs": [],
   "source": [
    "torch.save(model, 'model.pth')"
   ],
   "metadata": {
    "collapsed": false,
    "ExecuteTime": {
     "start_time": "2023-04-22T13:11:31.985369Z",
     "end_time": "2023-04-22T13:11:32.780815Z"
    }
   }
  },
  {
   "cell_type": "markdown",
   "source": [
    "我们可以这样载入模型："
   ],
   "metadata": {
    "collapsed": false
   }
  },
  {
   "cell_type": "code",
   "execution_count": 16,
   "outputs": [],
   "source": [
    "model = torch.load('model.pth')"
   ],
   "metadata": {
    "collapsed": false,
    "ExecuteTime": {
     "start_time": "2023-04-22T13:11:31.989371Z",
     "end_time": "2023-04-22T13:11:32.854445Z"
    }
   }
  },
  {
   "cell_type": "markdown",
   "source": [
    "**注意**这种方法在序列化模型时使用了 Python 的 `pickle` 模块，因此在加载模型时需要确保实际的类定义可用。"
   ],
   "metadata": {
    "collapsed": false
   }
  }
 ],
 "metadata": {
  "kernelspec": {
   "display_name": "Python 3",
   "language": "python",
   "name": "python3"
  },
  "language_info": {
   "codemirror_mode": {
    "name": "ipython",
    "version": 2
   },
   "file_extension": ".py",
   "mimetype": "text/x-python",
   "name": "python",
   "nbconvert_exporter": "python",
   "pygments_lexer": "ipython2",
   "version": "2.7.6"
  }
 },
 "nbformat": 4,
 "nbformat_minor": 0
}
